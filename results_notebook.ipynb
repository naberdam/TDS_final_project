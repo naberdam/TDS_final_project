{
 "cells": [
  {
   "cell_type": "markdown",
   "id": "e1b3b757",
   "metadata": {},
   "source": [
    "# Preprocessing"
   ]
  },
  {
   "cell_type": "markdown",
   "id": "3b7a132c",
   "metadata": {},
   "source": [
    "### Importing Packages"
   ]
  },
  {
   "cell_type": "code",
   "execution_count": 8,
   "id": "0e2d5438",
   "metadata": {},
   "outputs": [
    {
     "ename": "ModuleNotFoundError",
     "evalue": "No module named 'tensorflow'",
     "output_type": "error",
     "traceback": [
      "\u001b[1;31m---------------------------------------------------------------------------\u001b[0m",
      "\u001b[1;31mModuleNotFoundError\u001b[0m                       Traceback (most recent call last)",
      "Input \u001b[1;32mIn [8]\u001b[0m, in \u001b[0;36m<module>\u001b[1;34m\u001b[0m\n\u001b[0;32m      2\u001b[0m \u001b[38;5;66;03m# import tensorflow as tf\u001b[39;00m\n\u001b[0;32m      3\u001b[0m \u001b[38;5;66;03m# from tf.keras.models import load_model\u001b[39;00m\n\u001b[0;32m      5\u001b[0m \u001b[38;5;28;01mfrom\u001b[39;00m \u001b[38;5;21;01mutils\u001b[39;00m \u001b[38;5;28;01mimport\u001b[39;00m load_datasets, get_relevant_columns_from_test_sets, check_accuracy\n\u001b[1;32m----> 6\u001b[0m \u001b[38;5;28;01mimport\u001b[39;00m \u001b[38;5;21;01mtest_with_our_model\u001b[39;00m\n\u001b[0;32m      7\u001b[0m \u001b[38;5;28;01mimport\u001b[39;00m \u001b[38;5;21;01mtest_with_threshold\u001b[39;00m\n",
      "File \u001b[1;32m~\\PycharmProjects\\TDS_final_project\\test_with_our_model.py:5\u001b[0m, in \u001b[0;36m<module>\u001b[1;34m\u001b[0m\n\u001b[0;32m      3\u001b[0m \u001b[38;5;28;01mimport\u001b[39;00m \u001b[38;5;21;01mmath\u001b[39;00m\n\u001b[0;32m      4\u001b[0m \u001b[38;5;28;01mimport\u001b[39;00m \u001b[38;5;21;01mpandas\u001b[39;00m \u001b[38;5;28;01mas\u001b[39;00m \u001b[38;5;21;01mpd\u001b[39;00m\n\u001b[1;32m----> 5\u001b[0m \u001b[38;5;28;01mimport\u001b[39;00m \u001b[38;5;21;01mtensorflow\u001b[39;00m \u001b[38;5;28;01mas\u001b[39;00m \u001b[38;5;21;01mtf\u001b[39;00m\n\u001b[0;32m      7\u001b[0m INTEGER \u001b[38;5;241m=\u001b[39m \u001b[38;5;241m1\u001b[39m\n\u001b[0;32m      8\u001b[0m CATEGORICAL \u001b[38;5;241m=\u001b[39m \u001b[38;5;241m0\u001b[39m\n",
      "\u001b[1;31mModuleNotFoundError\u001b[0m: No module named 'tensorflow'"
     ]
    }
   ],
   "source": [
    "import matplotlib.pyplot as plt\n",
    "# import tensorflow as tf\n",
    "# from tf.keras.models import load_model\n",
    "\n",
    "from utils import load_datasets, get_relevant_columns_from_test_sets, check_accuracy\n",
    "import test_with_our_model\n",
    "import test_with_threshold"
   ]
  },
  {
   "cell_type": "markdown",
   "id": "8cb96a22",
   "metadata": {},
   "source": [
    "### Defining Global Variables"
   ]
  },
  {
   "cell_type": "code",
   "execution_count": null,
   "id": "4a583e98",
   "metadata": {},
   "outputs": [],
   "source": [
    "TEST_Y_PATH = 'test_y.csv'\n",
    "MODEL_PATH = 'data/data_type_identifier.h5'"
   ]
  },
  {
   "cell_type": "markdown",
   "id": "a5de993a",
   "metadata": {},
   "source": [
    "# Load Datasets"
   ]
  },
  {
   "cell_type": "code",
   "execution_count": null,
   "id": "ea32fc25",
   "metadata": {},
   "outputs": [],
   "source": [
    "test_datasets = load_datasets()\n",
    "test_relevant_columns = get_relevant_columns_from_test_sets(test_datasets)"
   ]
  },
  {
   "cell_type": "markdown",
   "id": "cb3e2718",
   "metadata": {},
   "source": [
    "# Testing"
   ]
  },
  {
   "cell_type": "markdown",
   "id": "bd7d4868",
   "metadata": {},
   "source": [
    "### Testing with Threshold"
   ]
  },
  {
   "cell_type": "code",
   "execution_count": 33,
   "id": "55e8dd19",
   "metadata": {},
   "outputs": [],
   "source": [
    "def test_threshold(thresholds):\n",
    "    threshold_results = {}\n",
    "    for threshold in thresholds:\n",
    "        res = test_with_threshold.test_with_threshold(test_datasets, test_relevant_columns, threshold)\n",
    "        test_accuracy = check_accuracy(res, TEST_Y_PATH)\n",
    "        threshold_results[f'threshold_{threshold}'] = test_accuracy\n",
    "    return threshold_results"
   ]
  },
  {
   "cell_type": "code",
   "execution_count": 34,
   "id": "52eea89a",
   "metadata": {},
   "outputs": [
    {
     "name": "stdout",
     "output_type": "stream",
     "text": [
      "{'threshold_5': 0.7232142857142857, 'threshold_10': 0.7589285714285714, 'threshold_15': 0.7767857142857143, 'threshold_20': 0.7410714285714286}\n"
     ]
    }
   ],
   "source": [
    "threshold_results = test_threshold([5, 10, 15, 20])\n",
    "print(threshold_results)"
   ]
  },
  {
   "cell_type": "code",
   "execution_count": null,
   "id": "f56e4078",
   "metadata": {},
   "outputs": [],
   "source": [
    "def test_our_model():\n",
    "    test_list, features_list = test_with_our_model.create_test_list(test_datasets, test_relevant_columns)\n",
    "#     model = load_model(model_path)\n",
    "    predictions = test_with_our_model.get_predictions(MODEL_PATH, test_list, features_list)\n",
    "    test_accuracy = check_accuracy(test_accuracy, TEST_Y_PATH)\n",
    "    return {'our_model': test_accuracy}"
   ]
  },
  {
   "cell_type": "code",
   "execution_count": null,
   "id": "867b2081",
   "metadata": {},
   "outputs": [],
   "source": [
    "our_model_results = test_our_model()"
   ]
  },
  {
   "cell_type": "markdown",
   "id": "3f14e953",
   "metadata": {},
   "source": [
    "### Show Results"
   ]
  },
  {
   "cell_type": "markdown",
   "id": "fabb159d",
   "metadata": {},
   "source": [
    "results should be a disctionary where the key is the test type and the value is the accuracy gotten in this test. For example, key can be \"threshold_5\" and the value is 0.7, meaning that for the test with the threshold (of value 5), the accuracy is 0.7"
   ]
  },
  {
   "cell_type": "code",
   "execution_count": 28,
   "id": "a5cb3e89",
   "metadata": {},
   "outputs": [],
   "source": [
    "def plot_accuracy_test(results):\n",
    "    for test_type in results.keys():\n",
    "        plt.bar(test_type, results[test_type])\n",
    "    plt.show()"
   ]
  },
  {
   "cell_type": "code",
   "execution_count": 29,
   "id": "700e67fb",
   "metadata": {},
   "outputs": [
    {
     "data": {
      "image/png": "[encoded data removed]",
      "text/plain": [
       "<Figure size 432x288 with 1 Axes>"
      ]
     },
     "metadata": {
      "needs_background": "light"
     },
     "output_type": "display_data"
    }
   ],
   "source": [
    "plot_accuracy_test(results)"
   ]
  },
  {
   "cell_type": "code",
   "execution_count": null,
   "id": "4abf637a",
   "metadata": {},
   "outputs": [],
   "source": []
  }
 ],
 "metadata": {
  "kernelspec": {
   "display_name": "Python 3 (ipykernel)",
   "language": "python",
   "name": "python3"
  },
  "language_info": {
   "codemirror_mode": {
    "name": "ipython",
    "version": 3
   },
   "file_extension": ".py",
   "mimetype": "text/x-python",
   "name": "python",
   "nbconvert_exporter": "python",
   "pygments_lexer": "ipython3",
   "version": "3.9.5"
  }
 },
 "nbformat": 4,
 "nbformat_minor": 5
}
