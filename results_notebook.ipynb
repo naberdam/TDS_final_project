{
 "cells": [
  {
   "cell_type": "markdown",
   "id": "e1b3b757",
   "metadata": {},
   "source": [
    "# Preprocessing"
   ]
  },
  {
   "cell_type": "markdown",
   "id": "3b7a132c",
   "metadata": {},
   "source": [
    "### Importing Packages"
   ]
  },
  {
   "cell_type": "code",
   "execution_count": 5,
   "id": "0e2d5438",
   "metadata": {},
   "outputs": [],
   "source": [
    "from utils import load_datasets, get_relevant_columns_from_test_sets\n",
    "import test_with_threshold"
   ]
  },
  {
   "cell_type": "markdown",
   "id": "8cb96a22",
   "metadata": {},
   "source": [
    "### Defining Global Variables"
   ]
  },
  {
   "cell_type": "code",
   "execution_count": 6,
   "id": "4a583e98",
   "metadata": {},
   "outputs": [],
   "source": [
    "TEST_Y_PATH = 'test_y.csv'"
   ]
  },
  {
   "cell_type": "markdown",
   "id": "a5de993a",
   "metadata": {},
   "source": [
    "# Load Datasets"
   ]
  },
  {
   "cell_type": "code",
   "execution_count": null,
   "id": "ea32fc25",
   "metadata": {},
   "outputs": [],
   "source": [
    "test_datasets = load_datasets()\n",
    "test_relevant_columns = get_relevant_columns_from_test_sets(test_datasets)"
   ]
  },
  {
   "cell_type": "markdown",
   "id": "cb3e2718",
   "metadata": {},
   "source": [
    "# Testing"
   ]
  },
  {
   "cell_type": "markdown",
   "id": "bd7d4868",
   "metadata": {},
   "source": [
    "### Testing with Threshold"
   ]
  },
  {
   "cell_type": "code",
   "execution_count": 7,
   "id": "55e8dd19",
   "metadata": {},
   "outputs": [
    {
     "name": "stdout",
     "output_type": "stream",
     "text": [
      "0.7410714285714286\n"
     ]
    }
   ],
   "source": [
    "test_accuracy = test_with_threshold.test_with_threshold(test_datasets, test_relevant_columns, 20)\n",
    "print(test_with_threshold.check_accuracy(test_accuracy, TEST_Y_PATH))"
   ]
  },
  {
   "cell_type": "code",
   "execution_count": null,
   "id": "52eea89a",
   "metadata": {},
   "outputs": [],
   "source": []
  }
 ],
 "metadata": {
  "kernelspec": {
   "display_name": "Python 3 (ipykernel)",
   "language": "python",
   "name": "python3"
  },
  "language_info": {
   "codemirror_mode": {
    "name": "ipython",
    "version": 3
   },
   "file_extension": ".py",
   "mimetype": "text/x-python",
   "name": "python",
   "nbconvert_exporter": "python",
   "pygments_lexer": "ipython3",
   "version": "3.9.5"
  }
 },
 "nbformat": 4,
 "nbformat_minor": 5
}
