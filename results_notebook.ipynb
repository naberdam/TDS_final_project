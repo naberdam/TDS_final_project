{
 "cells": [
  {
   "cell_type": "markdown",
   "metadata": {},
   "source": [
    "# Preprocessing"
   ]
  },
  {
   "cell_type": "markdown",
   "metadata": {},
   "source": [
    "### Importing Packages"
   ]
  },
  {
   "cell_type": "code",
   "execution_count": 1,
   "metadata": {},
   "outputs": [],
   "source": [
    "import matplotlib.pyplot as plt\n",
    "import tensorflow as tf\n",
    "from tensorflow.keras.models import load_model\n",
    "\n",
    "from utils import load_datasets, get_relevant_columns_from_test_sets, check_accuracy\n",
    "import test_with_our_model\n",
    "import test_with_threshold"
   ]
  },
  {
   "cell_type": "markdown",
   "metadata": {},
   "source": [
    "### Defining Global Variables"
   ]
  },
  {
   "cell_type": "code",
   "execution_count": 2,
   "metadata": {},
   "outputs": [],
   "source": [
    "TEST_Y_PATH = 'test_y.csv'\n",
    "MODEL_PATH = 'data/data_type_identifier.h5'"
   ]
  },
  {
   "cell_type": "markdown",
   "metadata": {},
   "source": [
    "# Load Datasets"
   ]
  },
  {
   "cell_type": "code",
   "execution_count": 3,
   "metadata": {},
   "outputs": [],
   "source": [
    "test_datasets = load_datasets()\n",
    "test_relevant_columns = get_relevant_columns_from_test_sets(test_datasets)"
   ]
  },
  {
   "cell_type": "markdown",
   "metadata": {},
   "source": [
    "# Testing"
   ]
  },
  {
   "cell_type": "markdown",
   "metadata": {},
   "source": [
    "### Testing with Threshold"
   ]
  },
  {
   "cell_type": "code",
   "execution_count": 4,
   "metadata": {},
   "outputs": [],
   "source": [
    "def test_threshold(thresholds):\n",
    "    threshold_results = {}\n",
    "    for threshold in thresholds:\n",
    "        res = test_with_threshold.test_with_threshold(test_datasets, test_relevant_columns, threshold)\n",
    "        test_accuracy = check_accuracy(res, TEST_Y_PATH)\n",
    "        threshold_results[f't_{threshold}'] = test_accuracy\n",
    "    return threshold_results"
   ]
  },
  {
   "cell_type": "code",
   "execution_count": 5,
   "metadata": {},
   "outputs": [
    {
     "name": "stdout",
     "output_type": "stream",
     "text": [
      "{'t_5': 0.7207207207207207, 't_10': 0.7567567567567568, 't_15': 0.7747747747747747, 't_20': 0.7387387387387387}\n"
     ]
    }
   ],
   "source": [
    "threshold_results = test_threshold([5, 10, 15, 20])\n",
    "print(threshold_results)"
   ]
  },
  {
   "cell_type": "code",
   "execution_count": 6,
   "metadata": {},
   "outputs": [],
   "source": [
    "def test_our_model():\n",
    "    test_list, features_list = test_with_our_model.create_test_list(test_datasets, test_relevant_columns)\n",
    "    predictions = test_with_our_model.get_predictions(MODEL_PATH, test_list.to_numpy(), features_list)\n",
    "    test_accuracy = check_accuracy(predictions, TEST_Y_PATH)\n",
    "    return {'our_model': test_accuracy}"
   ]
  },
  {
   "cell_type": "code",
   "execution_count": 7,
   "metadata": {},
   "outputs": [
    {
     "name": "stdout",
     "output_type": "stream",
     "text": [
      "{'our_model': 0.7477477477477478}\n"
     ]
    }
   ],
   "source": [
    "our_model_results = test_our_model()\n",
    "print(our_model_results)"
   ]
  },
  {
   "cell_type": "code",
   "execution_count": 8,
   "metadata": {},
   "outputs": [],
   "source": [
    "def test_unique_values():\n",
    "    test_list, features_list = test_with_our_model.create_test_list(test_datasets, test_relevant_columns)\n",
    "    predictions = test_with_our_model.get_predictions('data/test_with_unique_values.h5', test_list[\"unique_value_size\"].to_numpy(), features_list)\n",
    "    test_accuracy = check_accuracy(predictions, TEST_Y_PATH)\n",
    "    return {'unique_values': test_accuracy}"
   ]
  },
  {
   "cell_type": "code",
   "execution_count": 9,
   "metadata": {},
   "outputs": [
    {
     "name": "stdout",
     "output_type": "stream",
     "text": [
      "{'unique_values': 0.7567567567567568}\n"
     ]
    }
   ],
   "source": [
    "unique_values_results = test_unique_values()\n",
    "print(unique_values_results)"
   ]
  },
  {
   "cell_type": "markdown",
   "metadata": {},
   "source": [
    "### Show Results"
   ]
  },
  {
   "cell_type": "markdown",
   "metadata": {},
   "source": [
    "results should be a disctionary where the key is the test type and the value is the accuracy gotten in this test. For example, key can be \"threshold_5\" and the value is 0.7, meaning that for the test with the threshold (of value 5), the accuracy is 0.7"
   ]
  },
  {
   "cell_type": "code",
   "execution_count": 10,
   "metadata": {},
   "outputs": [],
   "source": [
    "def plot_accuracy_test(results):\n",
    "    for test_type in results.keys():\n",
    "        plt.bar(test_type, results[test_type], width=0.5)\n",
    "    plt.show()"
   ]
  },
  {
   "cell_type": "code",
   "execution_count": 11,
   "metadata": {},
   "outputs": [
    {
     "name": "stdout",
     "output_type": "stream",
     "text": [
      "{'our_model': 0.7477477477477478, 't_5': 0.7207207207207207, 't_10': 0.7567567567567568, 't_15': 0.7747747747747747, 't_20': 0.7387387387387387, 'unique_values': 0.7567567567567568}\n"
     ]
    }
   ],
   "source": [
    "our_model_results.update(threshold_results)\n",
    "our_model_results.update(unique_values_results)\n",
    "results = our_model_results\n",
    "print(results)"
   ]
  },
  {
   "cell_type": "code",
   "execution_count": 12,
   "metadata": {},
   "outputs": [
    {
     "data": {
      "image/png": "[encoded data removed]",
      "text/plain": [
       "<Figure size 432x288 with 1 Axes>"
      ]
     },
     "metadata": {
      "needs_background": "light"
     },
     "output_type": "display_data"
    }
   ],
   "source": [
    "plot_accuracy_test(results)"
   ]
  },
  {
   "cell_type": "code",
   "execution_count": null,
   "metadata": {},
   "outputs": [],
   "source": []
  },
  {
   "cell_type": "code",
   "execution_count": null,
   "metadata": {},
   "outputs": [],
   "source": []
  }
 ],
 "metadata": {
  "kernelspec": {
   "display_name": "Python 3",
   "language": "python",
   "name": "python3"
  },
  "language_info": {
   "codemirror_mode": {
    "name": "ipython",
    "version": 3
   },
   "file_extension": ".py",
   "mimetype": "text/x-python",
   "name": "python",
   "nbconvert_exporter": "python",
   "pygments_lexer": "ipython3",
   "version": "3.8.3"
  }
 },
 "nbformat": 4,
 "nbformat_minor": 5
}
